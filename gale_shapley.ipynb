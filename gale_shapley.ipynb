{
 "cells": [
  {
   "cell_type": "code",
   "execution_count": 3,
   "metadata": {},
   "outputs": [
    {
     "name": "stdout",
     "output_type": "stream",
     "text": [
      "{'P10': 'Eviction Debt Assistance Fund', 'P12': 'Reentry Housing Support', 'P16': 'Rainy-Day Fund for Greater Equity', 'P13': 'The Pearson Project: Kitchen Renovation', 'P3': \"Black Wall Street Hub for Amplifying Durham's Entrepreneur Community\", 'P2': \"DCI's ConnectEd to Career Pipeline\", 'P1': 'Necessity-Driven Entrepreneurial Support', 'P7': 'Durham: The City of Books', 'P15': 'Homeowner & Homebuyer Initiated Program (HHIP)', 'P4': 'Transitional & Independent Housing', 'P6': 'Green Stormwater Infrastructure Installations', 'P18': 'Bridging Business Opportunity and Equity', 'P17': 'Durham Affordable Sustainable Homes (DASH)', 'P11': 'Merrick-Moore Community Preservation Project', 'P8': 'Digital Literacy Training and Computers', 'P14': 'Multifamily Acquisition Support & Supply (MASS)', 'P9': 'Durham Peer Support Reentry Partnership', 'P19': 'Home and Neighborhood Preservation Initiative', 'P20': 'Community Infrastructure Investment for Equitable Engagement', 'P5': 'Community-Rooted™ Approaches to Public Health'}\n"
     ]
    }
   ],
   "source": [
    "import pandas as pd\n",
    "\n",
    "# --- Load data ---\n",
    "proj_rank_df = pd.read_csv(\"project_preferences.csv\")   # project columns, rows are ranked packages\n",
    "priority_df = pd.read_csv(\"our_rankings.csv\")           # columns: Project, amy and dom's ranking\n",
    "\n",
    "# --- Build project preferences ---\n",
    "project_prefs = {}\n",
    "for project in proj_rank_df.columns:\n",
    "    prefs = proj_rank_df[project].dropna().tolist()\n",
    "    project_prefs[project] = prefs\n",
    "\n",
    "# --- Build package preferences ---\n",
    "# Mapping: project → rank number\n",
    "project_priority = priority_df.set_index(\"Project Title\")[\"Ranking\"].to_dict()\n",
    "\n",
    "# Every package uses the same ranking of projects (lower number = more preferred)\n",
    "packages = set(sum(project_prefs.values(), []))\n",
    "package_prefs = {\n",
    "    pkg: sorted(project_priority.keys(), key=lambda proj: project_priority[proj])\n",
    "    for pkg in packages\n",
    "}\n",
    "\n",
    "# --- Gale-Shapley algorithm ---\n",
    "free_projects = list(project_prefs.keys())\n",
    "current_matches = {}  # {package: project}\n",
    "next_proposal_index = {proj: 0 for proj in project_prefs}\n",
    "\n",
    "while free_projects:\n",
    "    proj = free_projects.pop(0)\n",
    "    if next_proposal_index[proj] >= len(project_prefs[proj]):\n",
    "        # This project has proposed to all packages → skip\n",
    "        continue\n",
    "\n",
    "    # Get next package it hasn’t proposed to\n",
    "    pkg = project_prefs[proj][next_proposal_index[proj]]\n",
    "    next_proposal_index[proj] += 1\n",
    "\n",
    "    if pkg not in current_matches:\n",
    "        # Package is free → match\n",
    "        current_matches[pkg] = proj\n",
    "    else:\n",
    "        current_proj = current_matches[pkg]\n",
    "        # Package decides between current and new proposer\n",
    "        if package_prefs[pkg].index(proj) < package_prefs[pkg].index(current_proj):\n",
    "            # Prefers new proposer\n",
    "            current_matches[pkg] = proj\n",
    "            free_projects.append(current_proj)\n",
    "        else:\n",
    "            # Reject new proposer\n",
    "            free_projects.append(proj)\n",
    "\n",
    "# --- Result ---\n",
    "print(current_matches)\n",
    "\n"
   ]
  }
 ],
 "metadata": {
  "kernelspec": {
   "display_name": "Python 3",
   "language": "python",
   "name": "python3"
  },
  "language_info": {
   "codemirror_mode": {
    "name": "ipython",
    "version": 3
   },
   "file_extension": ".py",
   "mimetype": "text/x-python",
   "name": "python",
   "nbconvert_exporter": "python",
   "pygments_lexer": "ipython3",
   "version": "3.11.3"
  },
  "orig_nbformat": 4
 },
 "nbformat": 4,
 "nbformat_minor": 2
}
