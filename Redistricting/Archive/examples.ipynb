{
 "cells": [
  {
   "cell_type": "markdown",
   "id": "24404033",
   "metadata": {},
   "source": [
    "# Running on Duplin-Onslow"
   ]
  },
  {
   "cell_type": "code",
   "execution_count": 18,
   "id": "ab2689ba",
   "metadata": {},
   "outputs": [
    {
     "name": "stderr",
     "output_type": "stream",
     "text": [
      "\u001b[32m\u001b[1m  Activating\u001b[22m\u001b[39m project at `~/durhamfunding-1/Redistricting/Archive/runMetropolizedRecomEnv`\n",
      "\u001b[32m\u001b[1m   Resolving\u001b[22m\u001b[39m package versions...\n",
      "\u001b[36m\u001b[1m     Project\u001b[22m\u001b[39m No packages added to or removed from `~/durhamfunding-1/Redistricting/Archive/runMetropolizedRecomEnv/Project.toml`\n",
      "\u001b[36m\u001b[1m    Manifest\u001b[22m\u001b[39m No packages added to or removed from `~/durhamfunding-1/Redistricting/Archive/runMetropolizedRecomEnv/Manifest.toml`\n",
      "\u001b[32m\u001b[1m   Resolving\u001b[22m\u001b[39m package versions...\n",
      "\u001b[36m\u001b[1m     Project\u001b[22m\u001b[39m No packages added to or removed from `~/durhamfunding-1/Redistricting/Archive/runMetropolizedRecomEnv/Project.toml`\n",
      "\u001b[36m\u001b[1m    Manifest\u001b[22m\u001b[39m No packages added to or removed from `~/durhamfunding-1/Redistricting/Archive/runMetropolizedRecomEnv/Manifest.toml`\n"
     ]
    }
   ],
   "source": [
    "import Pkg\n",
    "Pkg.activate(\"./runMetropolizedRecomEnv\")\n",
    "Pkg.instantiate()\n",
    "Pkg.add(\"RandomNumbers\")\n",
    "Pkg.add(\"MetropolizedForestRecom\")\n",
    "using RandomNumbers\n",
    "using MetropolizedForestRecom\n",
    "\n",
    "num_dists = 3\n",
    "rng_seed = 110934571\n",
    "steps = 100\n",
    "pop_dev = 0.05\n",
    "gamma = 0.0 #0 is uniform on forests; 1 is uniform on partitions\n",
    "\n",
    "pctGraphPath = joinpath(\"data\", \"Duplin_Onslow.json\")\n",
    "nodeData = Set([\"GEOID\", \"POPULATION\", \"AREA\", \"border_length\"]);\n",
    "\n",
    "# manually read in base_graph so that we can set a unique identifier that \n",
    "# combines county and precinct id\n",
    "base_graph = BaseGraph(pctGraphPath, \"POPULATION\", inc_node_data=nodeData,\n",
    "                       area_col=\"AREA\", node_border_col=\"border_length\",\n",
    "                       edge_perimeter_col=\"length\");\n",
    "\n",
    "# now that the field \"county_and_prec_id\" is set, we can use it to create the \n",
    "# graph object that we will sample on\n",
    "graph = Graph(base_graph, \"GEOID\");\n",
    "\n",
    "constraints = initialize_constraints()\n",
    "add_constraint!(constraints, PopulationConstraint(graph, num_dists, pop_dev))\n",
    "# add_constraint!(constraints, ConstrainDiscontinuousTraversals(graph)) # only needed for multiscale\n",
    "# add_constraint!(constraints, MaxCoarseNodeSplits(num_dists+1)) # only needed for multiscale\n",
    "\n",
    "rng = PCG.PCGStateOneseq(UInt64, rng_seed)\n",
    "partition = Partition(graph, constraints, num_dists; rng=rng);"
   ]
  },
  {
   "cell_type": "code",
   "execution_count": 5,
   "id": "9f829659",
   "metadata": {},
   "outputs": [
    {
     "name": "stdout",
     "output_type": "stream",
     "text": [
      "atlasParam[\"package.version\"] = \"MetropolizedForestRecom v0.1.2\"\n",
      "startring mcmc\n"
     ]
    }
   ],
   "source": [
    "proposal = build_single_node_flip(constraints)\n",
    "measure = Measure(gamma, 1.0) # spanning forest measure; first number is \n",
    "# exponent on trees, second on linking edges to add elements to the measure\n",
    "# push_measure!(measure, get_isoperimetric_score, 0.45)\n",
    "\n",
    "output_file_path = joinpath(\"output\", \"DO\", \n",
    "                            \"singleNodeFlip_gamma\"*string(gamma)*\".jsonl\")\n",
    "writer = Writer(measure, constraints, partition, output_file_path)\n",
    "push_writer!(writer, get_log_spanning_trees)\n",
    "push_writer!(writer, get_log_spanning_forests)\n",
    "push_writer!(writer, get_isoperimetric_scores)\n",
    "\n",
    "println(\"startring mcmc\")\n",
    "run_metropolis_hastings!(partition, proposal, measure, steps, rng,\n",
    "                         writer=writer, output_freq=1);\n",
    "close_writer(writer)                         "
   ]
  },
  {
   "cell_type": "code",
   "execution_count": 15,
   "id": "f2eead44",
   "metadata": {},
   "outputs": [
    {
     "name": "stdout",
     "output_type": "stream",
     "text": [
      "atlasParam[\"package.version\"] = \"MetropolizedForestRecom v0.1.2\"\n",
      "startring mcmc\n"
     ]
    }
   ],
   "source": [
    "proposal = build_forest_recom2(constraints)\n",
    "measure = Measure(gamma, 1.0) # spanning forest measure; first number is \n",
    "# exponent on trees, second on linking edges to add elements to the measure\n",
    "# push_measure!(measure, get_isoperimetric_score, 0.45)\n",
    "\n",
    "output_file_path = joinpath(\"output\", \"DO\", \n",
    "                            \"metropolizedRecombination_gamma\"*string(gamma)*\".jsonl\")\n",
    "writer = Writer(measure, constraints, partition, output_file_path)\n",
    "push_writer!(writer, get_log_spanning_trees)\n",
    "push_writer!(writer, get_log_spanning_forests)\n",
    "push_writer!(writer, get_isoperimetric_scores)\n",
    "\n",
    "println(\"startring mcmc\")\n",
    "run_metropolis_hastings!(partition, proposal, measure, steps, rng,\n",
    "                         writer=writer, output_freq=1);\n",
    "close_writer(writer)                      "
   ]
  },
  {
   "cell_type": "markdown",
   "id": "ef5c39b3",
   "metadata": {},
   "source": [
    "# Running on North Carolina"
   ]
  },
  {
   "cell_type": "code",
   "execution_count": 23,
   "id": "090c233f",
   "metadata": {},
   "outputs": [
    {
     "name": "stderr",
     "output_type": "stream",
     "text": [
      "\u001b[32m\u001b[1m  Activating\u001b[22m\u001b[39m project at `~/durhamfunding-1/Redistricting/Archive/runMetropolizedRecomEnv`\n"
     ]
    }
   ],
   "source": [
    "# TO run this file execute the following in the examples directory: \n",
    "#\n",
    "# julia NC_1level.jl\n",
    "#\n",
    "# TO instantiate the environment to run this file execute the following in the \n",
    "# examples directory: \n",
    "#\n",
    "#julia --project=./runMetropolizedRecomEnv -e 'using Pkg; Pkg.instantiate()'\n",
    "#\n",
    "#\n",
    "\n",
    "import Pkg\n",
    "Pkg.activate(\"./runMetropolizedRecomEnv\")\n",
    "Pkg.instantiate()\n",
    "\n",
    "using RandomNumbers\n",
    "using MetropolizedForestRecom\n",
    "\n",
    "num_dists = 14\n",
    "rng_seed = 110934571\n",
    "steps = 100\n",
    "pop_dev = 0.02\n",
    "gamma = 0.0 #0 is uniform on forests; 1 is uniform on partitions\n",
    "\n",
    "pctGraphPath = joinpath(\"data\", \"NC_pct21.json\")\n",
    "nodeData = Set([\"county\", \"prec_id\", \"pop2020cen\", \"area\", \"border_length\"]);\n",
    "\n",
    "# manually read in base_graph so that we can set a unique identifier that \n",
    "# combines county and precinct id\n",
    "base_graph = BaseGraph(pctGraphPath, \"pop2020cen\", inc_node_data=nodeData,\n",
    "                       area_col=\"area\", node_border_col=\"border_length\",\n",
    "                       edge_perimeter_col=\"length\");\n",
    "for ii = 1:length(base_graph.node_attributes)\n",
    "    county = base_graph.node_attributes[ii][\"county\"]\n",
    "    prec_id = base_graph.node_attributes[ii][\"prec_id\"]\n",
    "    name = county*\"_\"*prec_id\n",
    "    base_graph.node_attributes[ii][\"county_and_prec_id\"] = name\n",
    "end\n",
    "\n",
    "# now that the field \"county_and_prec_id\" is set, we can use it to create the \n",
    "# graph object that we will sample on\n",
    "graph = MetropolizedForestRecom.Graph(base_graph, \"county_and_prec_id\");\n",
    "\n",
    "constraints = initialize_constraints()\n",
    "add_constraint!(constraints, PopulationConstraint(graph, num_dists, pop_dev))\n",
    "\n",
    "# only needed for multiscale\n",
    "# add_constraint!(constraints, ConstrainDiscontinuousTraversals(graph)) \n",
    "# add_constraint!(constraints, MaxCoarseNodeSplits(num_dists+1))\n",
    "\n",
    "rng = PCG.PCGStateOneseq(UInt64, rng_seed)\n",
    "partition = Partition(graph, constraints, num_dists; rng=rng);"
   ]
  },
  {
   "cell_type": "code",
   "execution_count": 24,
   "id": "15fb9939",
   "metadata": {},
   "outputs": [
    {
     "name": "stdout",
     "output_type": "stream",
     "text": [
      "atlasParam[\"package.version\"] = \"MetropolizedForestRecom v0.1.2\"\n",
      "startring mcmc\n"
     ]
    }
   ],
   "source": [
    "proposal = build_single_node_flip(constraints)\n",
    "measure = Measure(gamma, 1.0) # spanning forest measure; first number is \n",
    "# exponent on trees, second on linking edges to add elements to the measure\n",
    "# push_measure!(measure, get_isoperimetric_score, 0.45)\n",
    "\n",
    "output_file_path = joinpath(\"output\", \"NC\", \n",
    "                            \"singleNodeFlip_gamma\"*string(gamma)*\".jsonl\")\n",
    "writer = Writer(measure, constraints, partition, output_file_path)\n",
    "push_writer!(writer, get_log_spanning_trees)\n",
    "push_writer!(writer, get_log_spanning_forests)\n",
    "push_writer!(writer, get_isoperimetric_scores)\n",
    "\n",
    "println(\"startring mcmc\")\n",
    "run_metropolis_hastings!(partition, proposal, measure, steps, rng,\n",
    "                         writer=writer, output_freq=1);\n",
    "close_writer(writer)                         "
   ]
  },
  {
   "cell_type": "code",
   "execution_count": 25,
   "id": "f376ea06",
   "metadata": {},
   "outputs": [
    {
     "name": "stdout",
     "output_type": "stream",
     "text": [
      "atlasParam[\"package.version\"] = \"MetropolizedForestRecom v0.1.2\"\n",
      "startring mcmc\n"
     ]
    }
   ],
   "source": [
    "proposal = build_forest_recom2(constraints)\n",
    "measure = Measure(gamma, 1.0) # spanning forest measure; first number is \n",
    "# exponent on trees, second on linking edges to add elements to the measure\n",
    "# push_measure!(measure, get_isoperimetric_score, 0.45)\n",
    "\n",
    "output_file_path = joinpath(\"output\", \"NC\", \n",
    "                            \"metropolizedRecombination_gamma\"*string(gamma)*\".jsonl\")\n",
    "writer = Writer(measure, constraints, partition, output_file_path)\n",
    "push_writer!(writer, get_log_spanning_trees)\n",
    "push_writer!(writer, get_log_spanning_forests)\n",
    "push_writer!(writer, get_isoperimetric_scores)\n",
    "\n",
    "println(\"startring mcmc\")\n",
    "run_metropolis_hastings!(partition, proposal, measure, steps, rng,\n",
    "                         writer=writer, output_freq=1);\n",
    "close_writer(writer) "
   ]
  }
 ],
 "metadata": {
  "kernelspec": {
   "display_name": "Julia 1.12.1",
   "language": "julia",
   "name": "julia-1.12"
  },
  "language_info": {
   "file_extension": ".jl",
   "mimetype": "application/julia",
   "name": "julia",
   "version": "1.12.1"
  }
 },
 "nbformat": 4,
 "nbformat_minor": 5
}
